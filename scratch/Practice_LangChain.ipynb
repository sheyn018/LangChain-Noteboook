{
 "cells": [
  {
   "cell_type": "markdown",
   "metadata": {},
   "source": [
    "# LangChain Study and Practice"
   ]
  },
  {
   "cell_type": "code",
   "execution_count": 23,
   "metadata": {},
   "outputs": [],
   "source": [
    "import os\n",
    "from dotenv import load_dotenv\n",
    "\n",
    "load_dotenv()\n",
    "\n",
    "openai_key = os.environ.get(\"OPENAI_API_KEY\")\n",
    "serp_key = os.environ.get(\"SERP_API_KEY\")\n",
    "gplaces_key = os.environ.get(\"GPLACES_API_KEY\")\n",
    "openweathermap_key = os.environ.get(\"OPENWEATHERMAP_API_KEY\")"
   ]
  },
  {
   "cell_type": "markdown",
   "metadata": {},
   "source": [
    "## Generic"
   ]
  },
  {
   "cell_type": "code",
   "execution_count": 10,
   "metadata": {},
   "outputs": [],
   "source": [
    "from langchain.prompts import PromptTemplate\n",
    "from langchain.chat_models import ChatOpenAI\n",
    "from langchain.chains import LLMChain"
   ]
  },
  {
   "cell_type": "markdown",
   "metadata": {},
   "source": [
    "### One Input Variable"
   ]
  },
  {
   "cell_type": "code",
   "execution_count": 11,
   "metadata": {},
   "outputs": [
    {
     "name": "stdout",
     "output_type": "stream",
     "text": [
      "What is a good name for a company that makes podcast player\n"
     ]
    }
   ],
   "source": [
    "# Prompt Generation\n",
    "\n",
    "prompt = PromptTemplate(\n",
    "    input_variables = [\"product\"], # this would be the user input\n",
    "    template = \"What is a good name for a company that makes {product}\"\n",
    ")\n",
    "\n",
    "print(prompt.format(product = \"podcast player\")) # for the example input, the product would be \"podcast player\""
   ]
  },
  {
   "cell_type": "code",
   "execution_count": 12,
   "metadata": {},
   "outputs": [
    {
     "data": {
      "text/plain": [
       "'PodcastPulse'"
      ]
     },
     "execution_count": 12,
     "metadata": {},
     "output_type": "execute_result"
    }
   ],
   "source": [
    "# OpenAI API\n",
    "\n",
    "chatopenai = ChatOpenAI(model_name = \"gpt-3.5-turbo\")\n",
    "llmchain_chat = LLMChain(llm = chatopenai, prompt = prompt)\n",
    "llmchain_chat.run(\"podcast player\")"
   ]
  },
  {
   "cell_type": "markdown",
   "metadata": {},
   "source": [
    "### Multiple Input Variables"
   ]
  },
  {
   "cell_type": "code",
   "execution_count": 13,
   "metadata": {},
   "outputs": [
    {
     "name": "stdout",
     "output_type": "stream",
     "text": [
      "What is a good name for a company that makes podcast player for children\n"
     ]
    }
   ],
   "source": [
    "# Prompt Generation\n",
    "\n",
    "prompt = PromptTemplate(\n",
    "    input_variables = [\"product\", \"audience\"],\n",
    "    template = \"What is a good name for a company that makes {product} for {audience}\"\n",
    ")\n",
    "\n",
    "print(prompt.format(product = \"podcast player\", audience = \"children\"))"
   ]
  },
  {
   "cell_type": "code",
   "execution_count": 14,
   "metadata": {},
   "outputs": [
    {
     "data": {
      "text/plain": [
       "'PodcastStream'"
      ]
     },
     "execution_count": 14,
     "metadata": {},
     "output_type": "execute_result"
    }
   ],
   "source": [
    "# OpenAI API\n",
    "\n",
    "llmchain_chat.run({\"product\": \"podcast player\", \"audience\": \"children\"}) # Multiple variables are required to be passed as a dict"
   ]
  },
  {
   "cell_type": "markdown",
   "metadata": {},
   "source": [
    "## Utility"
   ]
  },
  {
   "cell_type": "code",
   "execution_count": 15,
   "metadata": {},
   "outputs": [],
   "source": [
    "from langchain.agents import load_tools\n",
    "from langchain.agents import initialize_agent\n",
    "from langchain.agents import AgentType\n",
    "from langchain.llms import OpenAI"
   ]
  },
  {
   "cell_type": "markdown",
   "metadata": {},
   "source": [
    "### Test Google Places API"
   ]
  },
  {
   "cell_type": "code",
   "execution_count": 16,
   "metadata": {},
   "outputs": [],
   "source": [
    "from langchain.tools import GooglePlacesTool"
   ]
  },
  {
   "cell_type": "code",
   "execution_count": 17,
   "metadata": {},
   "outputs": [],
   "source": [
    "places = GooglePlacesTool()"
   ]
  },
  {
   "cell_type": "code",
   "execution_count": 18,
   "metadata": {},
   "outputs": [
    {
     "data": {
      "text/plain": [
       "'1. Al Forno PH\\nAddress: 1, 9A Villa Arca Ave, Quezon City, Metro Manila, Philippines\\nGoogle place ID: ChIJceWfvmu3lzMRCVhnuddMf3A\\nPhone: Unknown\\nWebsite: Unknown\\n\\n'"
      ]
     },
     "execution_count": 18,
     "metadata": {},
     "output_type": "execute_result"
    }
   ],
   "source": [
    "places.run(\"al fronos\")"
   ]
  },
  {
   "cell_type": "markdown",
   "metadata": {},
   "source": [
    "### Serp API"
   ]
  },
  {
   "cell_type": "code",
   "execution_count": 24,
   "metadata": {},
   "outputs": [],
   "source": [
    "# Tools and Initializing Agent\n",
    "\n",
    "llm = OpenAI(temperature = 0)\n",
    "\n",
    "tool_names = [\"serpapi\"]\n",
    "tools = load_tools(tool_names)\n",
    "\n",
    "agent = initialize_agent(tools, llm, agent = AgentType.ZERO_SHOT_REACT_DESCRIPTION, verbose = True)"
   ]
  },
  {
   "cell_type": "code",
   "execution_count": 41,
   "metadata": {},
   "outputs": [],
   "source": [
    "query = input(\"Question: \")"
   ]
  },
  {
   "cell_type": "code",
   "execution_count": 42,
   "metadata": {},
   "outputs": [
    {
     "data": {
      "text/plain": [
       "'What are some good vacation spots in South Luzon Philippines?'"
      ]
     },
     "execution_count": 42,
     "metadata": {},
     "output_type": "execute_result"
    }
   ],
   "source": [
    "query"
   ]
  },
  {
   "cell_type": "code",
   "execution_count": 43,
   "metadata": {},
   "outputs": [
    {
     "name": "stdout",
     "output_type": "stream",
     "text": [
      "\n",
      "\n",
      "\u001b[1m> Entering new AgentExecutor chain...\u001b[0m\n",
      "\u001b[32;1m\u001b[1;3m I should research some popular vacation spots in South Luzon\n",
      "Action: Search\n",
      "Action Input: \"Vacation spots in South Luzon Philippines\"\u001b[0m\n",
      "Observation: \u001b[36;1m\u001b[1;3m10 Top Destinations in Southern Luzon, Philippines · 10. Legazpi · 9. Catanduanes · 8. Caramoan Peninsula · 7. Calaguas Islands · 6. Mabini · 5.\u001b[0m\n",
      "Thought:\u001b[32;1m\u001b[1;3m I should look at the individual destinations to get more information\n",
      "Action: Search\n",
      "Action Input: \"Legazpi Philippines\"\u001b[0m\n",
      "Observation: \u001b[36;1m\u001b[1;3mLegazpi, officially the City of Legazpi, is a 1st class component city and capital of the province of Albay, Philippines. According to the 2020 census, it has a population of 209,533. Legazpi is the regional center and largest city of the Bicol Region, in terms of population.\u001b[0m\n",
      "Thought:\u001b[32;1m\u001b[1;3m I should look at more destinations\n",
      "Action: Search\n",
      "Action Input: \"Catanduanes Philippines\"\u001b[0m\n",
      "Observation: \u001b[36;1m\u001b[1;3mCatanduanes, officially the Province of Catanduanes, is an island province located in the Bicol Region of Luzon in the Philippines. It is the 12th-largest island in the Philippines, and lies to the east of Camarines Sur, across Maqueda Channel. Its capital is Virac.\u001b[0m\n",
      "Thought:"
     ]
    },
    {
     "name": "stderr",
     "output_type": "stream",
     "text": [
      "Retrying langchain.llms.openai.completion_with_retry.<locals>._completion_with_retry in 4.0 seconds as it raised RateLimitError: Rate limit reached for default-text-davinci-003 in organization org-8s0GpBTuKfLf5Ae3c3Bdn0jI on requests per min. Limit: 3 / min. Please try again in 20s. Contact us through our help center at help.openai.com if you continue to have issues. Please add a payment method to your account to increase your rate limit. Visit https://platform.openai.com/account/billing to add a payment method..\n",
      "Retrying langchain.llms.openai.completion_with_retry.<locals>._completion_with_retry in 4.0 seconds as it raised RateLimitError: Rate limit reached for default-text-davinci-003 in organization org-8s0GpBTuKfLf5Ae3c3Bdn0jI on requests per min. Limit: 3 / min. Please try again in 20s. Contact us through our help center at help.openai.com if you continue to have issues. Please add a payment method to your account to increase your rate limit. Visit https://platform.openai.com/account/billing to add a payment method..\n"
     ]
    },
    {
     "name": "stdout",
     "output_type": "stream",
     "text": [
      "\u001b[32;1m\u001b[1;3m I now know the popular vacation spots in South Luzon\n",
      "Final Answer: Popular vacation spots in South Luzon, Philippines include Legazpi, Catanduanes, Caramoan Peninsula, Calaguas Islands, Mabini, and more.\u001b[0m\n",
      "\n",
      "\u001b[1m> Finished chain.\u001b[0m\n"
     ]
    }
   ],
   "source": [
    "answer = agent.run(query)"
   ]
  },
  {
   "cell_type": "code",
   "execution_count": 44,
   "metadata": {},
   "outputs": [
    {
     "data": {
      "text/plain": [
       "'Popular vacation spots in South Luzon, Philippines include Legazpi, Catanduanes, Caramoan Peninsula, Calaguas Islands, Mabini, and more.'"
      ]
     },
     "execution_count": 44,
     "metadata": {},
     "output_type": "execute_result"
    }
   ],
   "source": [
    "answer"
   ]
  },
  {
   "cell_type": "markdown",
   "metadata": {},
   "source": [
    "### Extraction Chain"
   ]
  },
  {
   "cell_type": "code",
   "execution_count": 45,
   "metadata": {},
   "outputs": [],
   "source": [
    "from langchain.chat_models import ChatOpenAI\n",
    "from langchain.chains import create_extraction_chain\n",
    "\n",
    "# Schema\n",
    "schema = {\n",
    "    \"properties\": {\n",
    "        \"location\": {\"type\": \"string\"},\n",
    "    },\n",
    "    \"required\": [\"location\"],\n",
    "}\n",
    "\n",
    "llm = ChatOpenAI(temperature = 0, model = \"gpt-3.5-turbo\")\n",
    "chain = create_extraction_chain(schema, llm)\n",
    "locations = chain.run(answer)"
   ]
  },
  {
   "cell_type": "code",
   "execution_count": 46,
   "metadata": {},
   "outputs": [
    {
     "data": {
      "text/plain": [
       "[{'location': 'Legazpi'},\n",
       " {'location': 'Catanduanes'},\n",
       " {'location': 'Caramoan Peninsula'},\n",
       " {'location': 'Calaguas Islands'},\n",
       " {'location': 'Mabini'}]"
      ]
     },
     "execution_count": 46,
     "metadata": {},
     "output_type": "execute_result"
    }
   ],
   "source": [
    "locations"
   ]
  },
  {
   "cell_type": "code",
   "execution_count": 47,
   "metadata": {},
   "outputs": [
    {
     "name": "stdout",
     "output_type": "stream",
     "text": [
      "Legazpi\n",
      "Catanduanes\n",
      "Caramoan Peninsula\n",
      "Calaguas Islands\n",
      "Mabini\n"
     ]
    }
   ],
   "source": [
    "for item in locations:\n",
    "    location = item['location']\n",
    "    print(location)"
   ]
  },
  {
   "cell_type": "markdown",
   "metadata": {},
   "source": [
    "### Google Places API"
   ]
  },
  {
   "cell_type": "code",
   "execution_count": 48,
   "metadata": {},
   "outputs": [],
   "source": [
    "results = []\n",
    "\n",
    "for item in locations:\n",
    "    location = item['location']\n",
    "    result = places.run(location) \n",
    "    results.append(result)"
   ]
  },
  {
   "cell_type": "code",
   "execution_count": 49,
   "metadata": {},
   "outputs": [
    {
     "data": {
      "text/plain": [
       "['1. Legazpi City\\nAddress: Legazpi City, Albay, Philippines\\nGoogle place ID: ChIJp_ibfmgBoTMRelMUjedSUjA\\nPhone: Unknown\\nWebsite: http://www.legazpicity.gov.ph/\\n\\n',\n",
       " '1. Catanduanes\\nAddress: Catanduanes, Philippines\\nGoogle place ID: ChIJy9J5j-v1nzMRVLLVwlWbUE0\\nPhone: Unknown\\nWebsite: Unknown\\n\\n',\n",
       " '1. Caramoan Peninsula\\nAddress: Caramoan Peninsula, Camarines Sur, Philippines\\nGoogle place ID: ChIJ5SBwqKvWoTMRKk5FXmOVYA0\\nPhone: Unknown\\nWebsite: Unknown\\n\\n',\n",
       " '1. Calaguas\\nAddress: Calaguas, Vinzons, Camarines Norte, Philippines\\nGoogle place ID: ChIJawZK6ZnPmDMRVlVIBSkBSPo\\nPhone: Unknown\\nWebsite: Unknown\\n\\n',\n",
       " '1. Mabini\\nAddress: Mabini, Batangas, Philippines\\nGoogle place ID: ChIJLbgdokcHvTMRRITNRyJ3h2k\\nPhone: Unknown\\nWebsite: Unknown\\n\\n']"
      ]
     },
     "execution_count": 49,
     "metadata": {},
     "output_type": "execute_result"
    }
   ],
   "source": [
    "results"
   ]
  },
  {
   "cell_type": "markdown",
   "metadata": {},
   "source": [
    "### OpenWeather API"
   ]
  },
  {
   "cell_type": "code",
   "execution_count": 50,
   "metadata": {},
   "outputs": [],
   "source": [
    "from langchain.utilities import OpenWeatherMapAPIWrapper"
   ]
  },
  {
   "cell_type": "code",
   "execution_count": 51,
   "metadata": {},
   "outputs": [],
   "source": [
    "weather = OpenWeatherMapAPIWrapper()"
   ]
  },
  {
   "cell_type": "code",
   "execution_count": 52,
   "metadata": {},
   "outputs": [
    {
     "name": "stdout",
     "output_type": "stream",
     "text": [
      "In Manila,PH, the current weather is as follows:\n",
      "Detailed status: light rain\n",
      "Wind speed: 2.57 m/s, direction: 240°\n",
      "Humidity: 88%\n",
      "Temperature: \n",
      "  - Current: 28.11°C\n",
      "  - High: 28.96°C\n",
      "  - Low: 26.66°C\n",
      "  - Feels like: 33.74°C\n",
      "Rain: {'1h': 0.19}\n",
      "Heat index: None\n",
      "Cloud cover: 20%\n"
     ]
    }
   ],
   "source": [
    "weather_data = weather.run(\"Manila,PH\")\n",
    "print(weather_data)"
   ]
  },
  {
   "cell_type": "markdown",
   "metadata": {},
   "source": [
    "### Multiple Tools"
   ]
  },
  {
   "cell_type": "code",
   "execution_count": 30,
   "metadata": {},
   "outputs": [],
   "source": [
    "tool_names = [\"serpapi\", \"openweathermap-api\"]\n",
    "tools = load_tools(tool_names)\n",
    "\n",
    "agent = initialize_agent(tools, llm, agent = AgentType.ZERO_SHOT_REACT_DESCRIPTION, verbose = True)"
   ]
  },
  {
   "cell_type": "code",
   "execution_count": 31,
   "metadata": {},
   "outputs": [
    {
     "data": {
      "text/plain": [
       "'What is the weather like right now in London UK?'"
      ]
     },
     "execution_count": 31,
     "metadata": {},
     "output_type": "execute_result"
    }
   ],
   "source": [
    "# Input for weather API\n",
    "\n",
    "query = \"\"\n",
    "\n",
    "query = input(\"Question\")\n",
    "\n",
    "query"
   ]
  },
  {
   "cell_type": "code",
   "execution_count": 32,
   "metadata": {},
   "outputs": [
    {
     "name": "stdout",
     "output_type": "stream",
     "text": [
      "\n",
      "\n",
      "\u001b[1m> Entering new AgentExecutor chain...\u001b[0m\n",
      "\u001b[32;1m\u001b[1;3mI need to use the OpenWeatherMap tool to fetch the current weather information for London, UK.\n",
      "Action: OpenWeatherMap\n",
      "Action Input: London, UK\u001b[0m\n",
      "Observation: \u001b[33;1m\u001b[1;3mIn London, UK, the current weather is as follows:\n",
      "Detailed status: broken clouds\n",
      "Wind speed: 4.12 m/s, direction: 250°\n",
      "Humidity: 71%\n",
      "Temperature: \n",
      "  - Current: 21.34°C\n",
      "  - High: 23.68°C\n",
      "  - Low: 19.36°C\n",
      "  - Feels like: 21.38°C\n",
      "Rain: {}\n",
      "Heat index: None\n",
      "Cloud cover: 75%\u001b[0m\n",
      "Thought:\u001b[32;1m\u001b[1;3mI now know the final answer\n",
      "Final Answer: The weather in London, UK right now is broken clouds with a temperature of 21.34°C.\u001b[0m\n",
      "\n",
      "\u001b[1m> Finished chain.\u001b[0m\n"
     ]
    },
    {
     "data": {
      "text/plain": [
       "'The weather in London, UK right now is broken clouds with a temperature of 21.34°C.'"
      ]
     },
     "execution_count": 32,
     "metadata": {},
     "output_type": "execute_result"
    }
   ],
   "source": [
    "agent.run(query)"
   ]
  },
  {
   "cell_type": "code",
   "execution_count": 35,
   "metadata": {},
   "outputs": [
    {
     "data": {
      "text/plain": [
       "'What is Claude 2.0?'"
      ]
     },
     "execution_count": 35,
     "metadata": {},
     "output_type": "execute_result"
    }
   ],
   "source": [
    "# Input for Serp API\n",
    "\n",
    "query = \"\"\n",
    "\n",
    "query = input(\"Question\")\n",
    "\n",
    "query"
   ]
  },
  {
   "cell_type": "code",
   "execution_count": 36,
   "metadata": {},
   "outputs": [
    {
     "name": "stdout",
     "output_type": "stream",
     "text": [
      "\n",
      "\n",
      "\u001b[1m> Entering new AgentExecutor chain...\u001b[0m\n",
      "\u001b[32;1m\u001b[1;3mI'm not sure what Claude 2.0 is. I should search for more information.\n",
      "Action: Search\n",
      "Action Input: \"Claude 2.0\"\u001b[0m\n",
      "Observation: \u001b[36;1m\u001b[1;3mClaude 2 has improved performance, longer responses, and can be accessed via API as well as a new public-facing beta website, claude.ai. We have ...\u001b[0m\n",
      "Thought:\u001b[32;1m\u001b[1;3mI now know what Claude 2.0 is.\n",
      "Final Answer: Claude 2.0 is an improved version of Claude, with better performance, longer responses, and the ability to be accessed via API. It also has a new public-facing beta website called claude.ai.\u001b[0m\n",
      "\n",
      "\u001b[1m> Finished chain.\u001b[0m\n"
     ]
    },
    {
     "data": {
      "text/plain": [
       "'Claude 2.0 is an improved version of Claude, with better performance, longer responses, and the ability to be accessed via API. It also has a new public-facing beta website called claude.ai.'"
      ]
     },
     "execution_count": 36,
     "metadata": {},
     "output_type": "execute_result"
    }
   ],
   "source": [
    "agent.run(query)"
   ]
  },
  {
   "cell_type": "code",
   "execution_count": null,
   "metadata": {},
   "outputs": [],
   "source": [
    "# Things to explore:\n",
    "# 1. How would an agent handle a query that would require multiple tools?\n",
    "# 2. How to make an agent remember/consider previous responses and queries?\n",
    "# 3. I should try exploring the other search methods in Google Places API.\n",
    "# 4. Haven't tried using promptTemplates yet."
   ]
  }
 ],
 "metadata": {
  "kernelspec": {
   "display_name": "Python 3",
   "language": "python",
   "name": "python3"
  },
  "language_info": {
   "codemirror_mode": {
    "name": "ipython",
    "version": 3
   },
   "file_extension": ".py",
   "mimetype": "text/x-python",
   "name": "python",
   "nbconvert_exporter": "python",
   "pygments_lexer": "ipython3",
   "version": "3.11.4"
  },
  "orig_nbformat": 4
 },
 "nbformat": 4,
 "nbformat_minor": 2
}
