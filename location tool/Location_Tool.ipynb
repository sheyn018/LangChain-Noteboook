{
 "cells": [
  {
   "cell_type": "markdown",
   "metadata": {},
   "source": [
    "# LangChain Location Tool"
   ]
  },
  {
   "cell_type": "code",
   "execution_count": 124,
   "metadata": {},
   "outputs": [],
   "source": [
    "# Models and Env\n",
    "from langchain.chat_models import ChatOpenAI\n",
    "from dotenv import load_dotenv\n",
    "\n",
    "# Agent and Tools\n",
    "from langchain.agents import AgentType\n",
    "from langchain.agents import initialize_agent\n",
    "from langchain.tools import BaseTool, format_tool_to_openai_function\n",
    "from pydantic import BaseModel, Field\n",
    "from typing import Optional, Type\n",
    "import requests\n",
    "import json\n",
    "import os\n",
    "\n",
    "# Message Schemas\n",
    "from langchain.schema import HumanMessage, FunctionMessage"
   ]
  },
  {
   "cell_type": "code",
   "execution_count": 125,
   "metadata": {},
   "outputs": [],
   "source": [
    "# Import API Keys\n",
    "\n",
    "load_dotenv()\n",
    "\n",
    "openai_key = os.environ.get(\"OPENAI_API_KEY\")\n",
    "gplaces_key = os.environ.get(\"GOOGLE_MAPS_API_KEY\")\n",
    "\n",
    "# Setting the Model\n",
    "\n",
    "model_name = \"gpt-3.5-turbo\""
   ]
  },
  {
   "cell_type": "markdown",
   "metadata": {},
   "source": [
    "## Functions"
   ]
  },
  {
   "cell_type": "code",
   "execution_count": 126,
   "metadata": {},
   "outputs": [],
   "source": [
    "# Function for Geocoding API\n",
    "\n",
    "def get_coordinates(place):\n",
    "\n",
    "    API_KEY = gplaces_key \n",
    "\n",
    "    url = f\"https://maps.googleapis.com/maps/api/geocode/json?address={place}&key={API_KEY}\"\n",
    "    response = requests.get(url)\n",
    "    data = response.json()\n",
    "\n",
    "    if data[\"status\"] == \"OK\":\n",
    "        location = data[\"results\"][0][\"geometry\"][\"location\"]\n",
    "        latitude = location[\"lat\"]\n",
    "        longitude = location[\"lng\"]\n",
    "        return f\"{latitude}, {longitude}\"\n",
    "        \n",
    "    else:\n",
    "        print(\"Geocoding request failed\")\n",
    "        return None, None"
   ]
  },
  {
   "cell_type": "code",
   "execution_count": 127,
   "metadata": {},
   "outputs": [],
   "source": [
    "# Function for Google Places API\n",
    "\n",
    "def get_location_info(location, type, keyword):\n",
    "    \n",
    "    API_KEY = gplaces_key\n",
    "    BASE_URL = 'https://maps.googleapis.com/maps/api/place/nearbysearch/json'\n",
    "\n",
    "    results = []\n",
    "    \n",
    "    coordinates = get_coordinates(location)\n",
    "\n",
    "    params = {\n",
    "        'location': coordinates,\n",
    "        'type': type,\n",
    "        'keyword': keyword,\n",
    "        'radius': 1000,\n",
    "        'key': API_KEY\n",
    "    }\n",
    "\n",
    "    response = requests.get(BASE_URL, params=params)\n",
    "    data = response.json()\n",
    "\n",
    "    if 'results' in data:\n",
    "        for place in data['results']:\n",
    "            name = place['name']\n",
    "            rating = place.get('rating', 'N/A')\n",
    "            vicinity = place.get('vicinity', 'N/A')\n",
    "            results.append({'name': name, 'rating': rating, 'vicinity': vicinity})\n",
    "    else:\n",
    "        print(\"No results found.\")\n",
    "\n",
    "    return results"
   ]
  },
  {
   "cell_type": "markdown",
   "metadata": {},
   "source": [
    "## BaseModel and BaseTool"
   ]
  },
  {
   "cell_type": "code",
   "execution_count": 128,
   "metadata": {},
   "outputs": [],
   "source": [
    "# Represents input data structure\n",
    "\n",
    "class GetLocationInfoCheckInput(BaseModel):\n",
    "    \n",
    "    location: str = Field(..., description = \"The name of the area for which we need to find the type of place in.\")\n",
    "    type: str = Field(..., description = \"Information about what type of place it is. For example, is it a restaurant, a gym, a school.\")\n",
    "    keyword: str = Field(..., description = \"A specific word or term to refine the search results. This can be used to filter places based on a specific theme or characteristic.\")"
   ]
  },
  {
   "cell_type": "code",
   "execution_count": 129,
   "metadata": {},
   "outputs": [],
   "source": [
    "# The tool that will be used\n",
    "\n",
    "class GetLocationInfoTool(BaseTool):\n",
    "    \n",
    "    name = \"get_location_info\"\n",
    "    description = \"Used to get information about a given location\"\n",
    "    \n",
    "    # Executes the tool\n",
    "    def _run(self, location: str, type: str, keyword: str):\n",
    "        location_response = get_location_info(location, type, keyword)\n",
    "        return location_response\n",
    "    \n",
    "    def _arun(self, location: str, type:str, keyword: str):\n",
    "        raise NotImplementedError(\"This tool does not support async\")\n",
    "   \n",
    "    args_schema: Optional[Type[BaseModel]] = GetLocationInfoCheckInput"
   ]
  },
  {
   "cell_type": "markdown",
   "metadata": {},
   "source": [
    "## Setting Up the Tool"
   ]
  },
  {
   "cell_type": "code",
   "execution_count": 130,
   "metadata": {},
   "outputs": [],
   "source": [
    "# Converts the tool to an OpenAI function\n",
    "\n",
    "tools = [GetLocationInfoTool()]\n",
    "functions = [format_tool_to_openai_function(tool_name) for tool_name in tools]"
   ]
  },
  {
   "cell_type": "code",
   "execution_count": 131,
   "metadata": {},
   "outputs": [
    {
     "data": {
      "text/plain": [
       "GetLocationInfoTool(name='get_location_info', description='Used to get information about a given location', args_schema=<class '__main__.GetLocationInfoCheckInput'>, return_direct=False, verbose=False, callbacks=None, callback_manager=None, tags=None, metadata=None, handle_tool_error=False)"
      ]
     },
     "execution_count": 131,
     "metadata": {},
     "output_type": "execute_result"
    }
   ],
   "source": [
    "tools[0]"
   ]
  },
  {
   "cell_type": "code",
   "execution_count": 132,
   "metadata": {},
   "outputs": [
    {
     "data": {
      "text/plain": [
       "[{'name': 'get_location_info',\n",
       "  'description': 'Used to get information about a given location',\n",
       "  'parameters': {'title': 'GetLocationInfoCheckInput',\n",
       "   'type': 'object',\n",
       "   'properties': {'location': {'title': 'Location',\n",
       "     'description': 'The name of the area for which we need to find the type of place in.',\n",
       "     'type': 'string'},\n",
       "    'type': {'title': 'Type',\n",
       "     'description': 'Information about what type of place it is. For example, is it a restaurant, a gym, a school.',\n",
       "     'type': 'string'},\n",
       "    'keyword': {'title': 'Keyword',\n",
       "     'description': 'A specific word or term to refine the search results. This can be used to filter places based on a specific theme or characteristic.',\n",
       "     'type': 'string'}},\n",
       "   'required': ['location', 'type', 'keyword']}}]"
      ]
     },
     "execution_count": 132,
     "metadata": {},
     "output_type": "execute_result"
    }
   ],
   "source": [
    "functions"
   ]
  },
  {
   "cell_type": "markdown",
   "metadata": {},
   "source": [
    "## Using the Tool"
   ]
  },
  {
   "cell_type": "code",
   "execution_count": 133,
   "metadata": {},
   "outputs": [],
   "source": [
    "# User Query\n",
    "\n",
    "query = input(\"What place are you looking for?\")"
   ]
  },
  {
   "cell_type": "code",
   "execution_count": 134,
   "metadata": {},
   "outputs": [
    {
     "data": {
      "text/plain": [
       "'Best burger joints around Makati, Philippines'"
      ]
     },
     "execution_count": 134,
     "metadata": {},
     "output_type": "execute_result"
    }
   ],
   "source": [
    "query"
   ]
  },
  {
   "cell_type": "code",
   "execution_count": 135,
   "metadata": {},
   "outputs": [
    {
     "data": {
      "text/plain": [
       "AIMessage(content='', additional_kwargs={'function_call': {'name': 'get_location_info', 'arguments': '{\\n  \"location\": \"Makati, Philippines\",\\n  \"type\": \"restaurant\",\\n  \"keyword\": \"burger\"\\n}'}}, example=False)"
      ]
     },
     "execution_count": 135,
     "metadata": {},
     "output_type": "execute_result"
    }
   ],
   "source": [
    "# Chat Model\n",
    "\n",
    "model = ChatOpenAI(\n",
    "            model = model_name, \n",
    "            temperature = 0,\n",
    "        )\n",
    "\n",
    "# First Response: Passed the Query and Function to OpenAI\n",
    "response_ai_message = model.predict_messages(\n",
    "                        [HumanMessage(content = query)], \n",
    "                        functions = functions\n",
    "                    )\n",
    "\n",
    "response_ai_message"
   ]
  },
  {
   "cell_type": "code",
   "execution_count": 136,
   "metadata": {},
   "outputs": [
    {
     "data": {
      "text/plain": [
       "{'name': 'get_location_info',\n",
       " 'arguments': '{\\n  \"location\": \"Makati, Philippines\",\\n  \"type\": \"restaurant\",\\n  \"keyword\": \"burger\"\\n}'}"
      ]
     },
     "execution_count": 136,
     "metadata": {},
     "output_type": "execute_result"
    }
   ],
   "source": [
    "response_ai_message.additional_kwargs['function_call']"
   ]
  },
  {
   "cell_type": "code",
   "execution_count": 137,
   "metadata": {},
   "outputs": [
    {
     "data": {
      "text/plain": [
       "{'location': 'Makati, Philippines', 'type': 'restaurant', 'keyword': 'burger'}"
      ]
     },
     "execution_count": 137,
     "metadata": {},
     "output_type": "execute_result"
    }
   ],
   "source": [
    "# Assigned the arguments from response_ai_message to _args\n",
    "\n",
    "_args = json.loads(response_ai_message.additional_kwargs['function_call'].get('arguments'))\n",
    "\n",
    "_args"
   ]
  },
  {
   "cell_type": "code",
   "execution_count": 138,
   "metadata": {},
   "outputs": [
    {
     "data": {
      "text/plain": [
       "GetLocationInfoTool(name='get_location_info', description='Used to get information about a given location', args_schema=<class '__main__.GetLocationInfoCheckInput'>, return_direct=False, verbose=False, callbacks=None, callback_manager=None, tags=None, metadata=None, handle_tool_error=False)"
      ]
     },
     "execution_count": 138,
     "metadata": {},
     "output_type": "execute_result"
    }
   ],
   "source": [
    "tools[0]"
   ]
  },
  {
   "cell_type": "code",
   "execution_count": 139,
   "metadata": {},
   "outputs": [
    {
     "data": {
      "text/plain": [
       "[{'name': 'Brgr: The Burger Project',\n",
       "  'rating': 0,\n",
       "  'vicinity': '38 Jupiter, Makati'},\n",
       " {'name': 'Moss Burger',\n",
       "  'rating': 4.3,\n",
       "  'vicinity': 'H22G+J5C, Glorietta Pedestrian Walkway, Makati'},\n",
       " {'name': 'Fuel Burgers',\n",
       "  'rating': 3.1,\n",
       "  'vicinity': 'SM Makati, Palm Dr, Makati'},\n",
       " {'name': '8 Cuts Burger Blends',\n",
       "  'rating': 4.5,\n",
       "  'vicinity': 'H.V. dela Costa St. cor L.P. Leviste St., Salcedo village, Makati, 1227 Metro Manila, L.P. Leviste Street, Makati'},\n",
       " {'name': 'MOS Burger',\n",
       "  'rating': 4.1,\n",
       "  'vicinity': 'H22G+74Q, Palm Dr, Makati'},\n",
       " {'name': 'Mr Beast Burger', 'rating': 5, 'vicinity': 'H23F+RQ2, Makati'},\n",
       " {'name': 'Burger Machine',\n",
       "  'rating': 3.3,\n",
       "  'vicinity': 'H237+W6X, V.A. Rufino St, Makati'},\n",
       " {'name': 'Shake Shack',\n",
       "  'rating': 4.3,\n",
       "  'vicinity': 'Level 1, Greenbelt Dr, Makati'},\n",
       " {'name': 'Burger Machine',\n",
       "  'rating': 3.3,\n",
       "  'vicinity': 'Euro Hotel, Arnaiz Ave Cor. Chino Roces Avenue, Makati'},\n",
       " {'name': 'Buns & Burgers',\n",
       "  'rating': 5,\n",
       "  'vicinity': '2nd floor, 8445 Kalayaan Ave, Manila'},\n",
       " {'name': 'ArmyNavy Burger + Burrito',\n",
       "  'rating': 3.2,\n",
       "  'vicinity': '2nd Floor, New Glorietta, Ayala Center San Lorenzo Village, Makati'},\n",
       " {'name': 'Army Navy Burger + Burrito',\n",
       "  'rating': 4.3,\n",
       "  'vicinity': 'H26H+PJ9, 74, 1209 Jupiter, Makati'},\n",
       " {'name': 'Burger Machine',\n",
       "  'rating': 5,\n",
       "  'vicinity': 'H27J+XFH, P Burgos, Makati'},\n",
       " {'name': 'Raging Bull Burgers',\n",
       "  'rating': 4,\n",
       "  'vicinity': 'Level 1, Assembly Grounds at The Rise, Unit 104, 7848 Malugay, Makati'},\n",
       " {'name': \"Zark's Burgers\",\n",
       "  'rating': 4.5,\n",
       "  'vicinity': 'Glorietta 1, Ayala Ave, Makati'},\n",
       " {'name': 'Hungry Homies - Chino Roces',\n",
       "  'rating': 4.6,\n",
       "  'vicinity': '2233 Chino Roces Ave, Makati'},\n",
       " {'name': '8 Cuts Burgers',\n",
       "  'rating': 4.5,\n",
       "  'vicinity': '3 Greenbelt Dr, Makati'},\n",
       " {'name': 'ArmyNavy Burger + Burrito',\n",
       "  'rating': 4.1,\n",
       "  'vicinity': 'Retail Space 1B, Dela Rosa Tower 1 Solaris Bldg, Dela Rosa Street, Makati'},\n",
       " {'name': '100g Burger',\n",
       "  'rating': 4.7,\n",
       "  'vicinity': '3738 Gen. Estrella st. Bangkal makati city makati, Makati'},\n",
       " {'name': 'ArmyNavy Burger + Burrito',\n",
       "  'rating': 4,\n",
       "  'vicinity': 'G/F, Centrum II Building, 150 Valero, Makati'}]"
      ]
     },
     "execution_count": 139,
     "metadata": {},
     "output_type": "execute_result"
    }
   ],
   "source": [
    "# Using the tool: _args to the GetLocationInfoTool\n",
    "\n",
    "tool_result = tools[0](_args)\n",
    "\n",
    "tool_result"
   ]
  },
  {
   "cell_type": "code",
   "execution_count": 140,
   "metadata": {},
   "outputs": [
    {
     "data": {
      "text/plain": [
       "FunctionMessage(content='[{\\'name\\': \\'Brgr: The Burger Project\\', \\'rating\\': 0, \\'vicinity\\': \\'38 Jupiter, Makati\\'}, {\\'name\\': \\'Moss Burger\\', \\'rating\\': 4.3, \\'vicinity\\': \\'H22G+J5C, Glorietta Pedestrian Walkway, Makati\\'}, {\\'name\\': \\'Fuel Burgers\\', \\'rating\\': 3.1, \\'vicinity\\': \\'SM Makati, Palm Dr, Makati\\'}, {\\'name\\': \\'8 Cuts Burger Blends\\', \\'rating\\': 4.5, \\'vicinity\\': \\'H.V. dela Costa St. cor L.P. Leviste St., Salcedo village, Makati, 1227 Metro Manila, L.P. Leviste Street, Makati\\'}, {\\'name\\': \\'MOS Burger\\', \\'rating\\': 4.1, \\'vicinity\\': \\'H22G+74Q, Palm Dr, Makati\\'}, {\\'name\\': \\'Mr Beast Burger\\', \\'rating\\': 5, \\'vicinity\\': \\'H23F+RQ2, Makati\\'}, {\\'name\\': \\'Burger Machine\\', \\'rating\\': 3.3, \\'vicinity\\': \\'H237+W6X, V.A. Rufino St, Makati\\'}, {\\'name\\': \\'Shake Shack\\', \\'rating\\': 4.3, \\'vicinity\\': \\'Level 1, Greenbelt Dr, Makati\\'}, {\\'name\\': \\'Burger Machine\\', \\'rating\\': 3.3, \\'vicinity\\': \\'Euro Hotel, Arnaiz Ave Cor. Chino Roces Avenue, Makati\\'}, {\\'name\\': \\'Buns & Burgers\\', \\'rating\\': 5, \\'vicinity\\': \\'2nd floor, 8445 Kalayaan Ave, Manila\\'}, {\\'name\\': \\'ArmyNavy Burger + Burrito\\', \\'rating\\': 3.2, \\'vicinity\\': \\'2nd Floor, New Glorietta, Ayala Center San Lorenzo Village, Makati\\'}, {\\'name\\': \\'Army Navy Burger + Burrito\\', \\'rating\\': 4.3, \\'vicinity\\': \\'H26H+PJ9, 74, 1209 Jupiter, Makati\\'}, {\\'name\\': \\'Burger Machine\\', \\'rating\\': 5, \\'vicinity\\': \\'H27J+XFH, P Burgos, Makati\\'}, {\\'name\\': \\'Raging Bull Burgers\\', \\'rating\\': 4, \\'vicinity\\': \\'Level 1, Assembly Grounds at The Rise, Unit 104, 7848 Malugay, Makati\\'}, {\\'name\\': \"Zark\\'s Burgers\", \\'rating\\': 4.5, \\'vicinity\\': \\'Glorietta 1, Ayala Ave, Makati\\'}, {\\'name\\': \\'Hungry Homies - Chino Roces\\', \\'rating\\': 4.6, \\'vicinity\\': \\'2233 Chino Roces Ave, Makati\\'}, {\\'name\\': \\'8 Cuts Burgers\\', \\'rating\\': 4.5, \\'vicinity\\': \\'3 Greenbelt Dr, Makati\\'}, {\\'name\\': \\'ArmyNavy Burger + Burrito\\', \\'rating\\': 4.1, \\'vicinity\\': \\'Retail Space 1B, Dela Rosa Tower 1 Solaris Bldg, Dela Rosa Street, Makati\\'}, {\\'name\\': \\'100g Burger\\', \\'rating\\': 4.7, \\'vicinity\\': \\'3738 Gen. Estrella st. Bangkal makati city makati, Makati\\'}, {\\'name\\': \\'ArmyNavy Burger + Burrito\\', \\'rating\\': 4, \\'vicinity\\': \\'G/F, Centrum II Building, 150 Valero, Makati\\'}]', additional_kwargs={}, name='get_location_info')"
      ]
     },
     "execution_count": 140,
     "metadata": {},
     "output_type": "execute_result"
    }
   ],
   "source": [
    "FunctionMessage(name = \"get_location_info\", content = str(tool_result))"
   ]
  },
  {
   "cell_type": "code",
   "execution_count": 141,
   "metadata": {},
   "outputs": [
    {
     "data": {
      "text/plain": [
       "AIMessage(content='Here are some of the best burger joints around Makati, Philippines:\\n\\n1. Brgr: The Burger Project - Located at 38 Jupiter, Makati. Rating: 0/5.\\n\\n2. Moss Burger - Located at H22G+J5C, Glorietta Pedestrian Walkway, Makati. Rating: 4.3/5.\\n\\n3. Fuel Burgers - Located at SM Makati, Palm Dr, Makati. Rating: 3.1/5.\\n\\n4. 8 Cuts Burger Blends - Located at H.V. dela Costa St. cor L.P. Leviste St., Salcedo village, Makati. Rating: 4.5/5.\\n\\n5. MOS Burger - Located at H22G+74Q, Palm Dr, Makati. Rating: 4.1/5.\\n\\n6. Mr Beast Burger - Located at H23F+RQ2, Makati. Rating: 5/5.\\n\\n7. Burger Machine - Located at H237+W6X, V.A. Rufino St, Makati. Rating: 3.3/5.\\n\\n8. Shake Shack - Located at Level 1, Greenbelt Dr, Makati. Rating: 4.3/5.\\n\\n9. Buns & Burgers - Located at 2nd floor, 8445 Kalayaan Ave, Manila. Rating: 5/5.\\n\\n10. ArmyNavy Burger + Burrito - Located at 2nd Floor, New Glorietta, Ayala Center San Lorenzo Village, Makati. Rating: 3.2/5.\\n\\nPlease note that these ratings are based on user reviews and may vary. Enjoy your burger hunt!', additional_kwargs={}, example=False)"
      ]
     },
     "execution_count": 141,
     "metadata": {},
     "output_type": "execute_result"
    }
   ],
   "source": [
    "# Second Response: Included the FunctionMessage to the message to OpenAI\n",
    "\n",
    "response_final = model.predict_messages(\n",
    "                    [\n",
    "                        HumanMessage(content = query),\n",
    "                        response_ai_message,\n",
    "                        FunctionMessage(name = 'get_location_info',content = str(tool_result)),\n",
    "                    ], \n",
    "                    functions=functions\n",
    "                )\n",
    "response_final"
   ]
  },
  {
   "cell_type": "code",
   "execution_count": 142,
   "metadata": {},
   "outputs": [],
   "source": [
    "output = response_final"
   ]
  },
  {
   "cell_type": "code",
   "execution_count": 143,
   "metadata": {},
   "outputs": [
    {
     "name": "stdout",
     "output_type": "stream",
     "text": [
      "content='Here are some of the best burger joints around Makati, Philippines:\\n\\n1. Brgr: The Burger Project - Located at 38 Jupiter, Makati. Rating: 0/5.\\n\\n2. Moss Burger - Located at H22G+J5C, Glorietta Pedestrian Walkway, Makati. Rating: 4.3/5.\\n\\n3. Fuel Burgers - Located at SM Makati, Palm Dr, Makati. Rating: 3.1/5.\\n\\n4. 8 Cuts Burger Blends - Located at H.V. dela Costa St. cor L.P. Leviste St., Salcedo village, Makati. Rating: 4.5/5.\\n\\n5. MOS Burger - Located at H22G+74Q, Palm Dr, Makati. Rating: 4.1/5.\\n\\n6. Mr Beast Burger - Located at H23F+RQ2, Makati. Rating: 5/5.\\n\\n7. Burger Machine - Located at H237+W6X, V.A. Rufino St, Makati. Rating: 3.3/5.\\n\\n8. Shake Shack - Located at Level 1, Greenbelt Dr, Makati. Rating: 4.3/5.\\n\\n9. Buns & Burgers - Located at 2nd floor, 8445 Kalayaan Ave, Manila. Rating: 5/5.\\n\\n10. ArmyNavy Burger + Burrito - Located at 2nd Floor, New Glorietta, Ayala Center San Lorenzo Village, Makati. Rating: 3.2/5.\\n\\nPlease note that these ratings are based on user reviews and may vary. Enjoy your burger hunt!' additional_kwargs={} example=False\n"
     ]
    }
   ],
   "source": [
    "print(output)"
   ]
  },
  {
   "cell_type": "markdown",
   "metadata": {},
   "source": [
    "## Using Agents"
   ]
  },
  {
   "cell_type": "code",
   "execution_count": 144,
   "metadata": {},
   "outputs": [],
   "source": [
    "model_using_agent = ChatOpenAI(temperature = 0, model = model_name)"
   ]
  },
  {
   "cell_type": "code",
   "execution_count": 145,
   "metadata": {},
   "outputs": [],
   "source": [
    "agent_for_function = initialize_agent(\n",
    "                        tools,\n",
    "                        model_using_agent,\n",
    "                        agent = AgentType.OPENAI_FUNCTIONS,\n",
    "                        verbose = True\n",
    "                    )"
   ]
  },
  {
   "cell_type": "code",
   "execution_count": 146,
   "metadata": {},
   "outputs": [
    {
     "name": "stdout",
     "output_type": "stream",
     "text": [
      "\n",
      "\n",
      "\u001b[1m> Entering new AgentExecutor chain...\u001b[0m\n",
      "\u001b[32;1m\u001b[1;3m\n",
      "Invoking: `get_location_info` with `{'location': 'Makati, Philippines', 'type': 'restaurant', 'keyword': 'burger'}`\n",
      "\n",
      "\n",
      "\u001b[0m\u001b[36;1m\u001b[1;3m[{'name': 'Brgr: The Burger Project', 'rating': 0, 'vicinity': '38 Jupiter, Makati'}, {'name': 'Moss Burger', 'rating': 4.3, 'vicinity': 'H22G+J5C, Glorietta Pedestrian Walkway, Makati'}, {'name': 'Fuel Burgers', 'rating': 3.1, 'vicinity': 'SM Makati, Palm Dr, Makati'}, {'name': '8 Cuts Burger Blends', 'rating': 4.5, 'vicinity': 'H.V. dela Costa St. cor L.P. Leviste St., Salcedo village, Makati, 1227 Metro Manila, L.P. Leviste Street, Makati'}, {'name': 'MOS Burger', 'rating': 4.1, 'vicinity': 'H22G+74Q, Palm Dr, Makati'}, {'name': 'Mr Beast Burger', 'rating': 5, 'vicinity': 'H23F+RQ2, Makati'}, {'name': 'Burger Machine', 'rating': 3.3, 'vicinity': 'H237+W6X, V.A. Rufino St, Makati'}, {'name': 'Shake Shack', 'rating': 4.3, 'vicinity': 'Level 1, Greenbelt Dr, Makati'}, {'name': 'Burger Machine', 'rating': 3.3, 'vicinity': 'Euro Hotel, Arnaiz Ave Cor. Chino Roces Avenue, Makati'}, {'name': 'Buns & Burgers', 'rating': 5, 'vicinity': '2nd floor, 8445 Kalayaan Ave, Manila'}, {'name': 'ArmyNavy Burger + Burrito', 'rating': 3.2, 'vicinity': '2nd Floor, New Glorietta, Ayala Center San Lorenzo Village, Makati'}, {'name': 'Army Navy Burger + Burrito', 'rating': 4.3, 'vicinity': 'H26H+PJ9, 74, 1209 Jupiter, Makati'}, {'name': 'Burger Machine', 'rating': 5, 'vicinity': 'H27J+XFH, P Burgos, Makati'}, {'name': 'Raging Bull Burgers', 'rating': 4, 'vicinity': 'Level 1, Assembly Grounds at The Rise, Unit 104, 7848 Malugay, Makati'}, {'name': \"Zark's Burgers\", 'rating': 4.5, 'vicinity': 'Glorietta 1, Ayala Ave, Makati'}, {'name': 'Hungry Homies - Chino Roces', 'rating': 4.6, 'vicinity': '2233 Chino Roces Ave, Makati'}, {'name': '8 Cuts Burgers', 'rating': 4.5, 'vicinity': '3 Greenbelt Dr, Makati'}, {'name': 'ArmyNavy Burger + Burrito', 'rating': 4.1, 'vicinity': 'Retail Space 1B, Dela Rosa Tower 1 Solaris Bldg, Dela Rosa Street, Makati'}, {'name': '100g Burger', 'rating': 4.7, 'vicinity': '3738 Gen. Estrella st. Bangkal makati city makati, Makati'}, {'name': 'ArmyNavy Burger + Burrito', 'rating': 4, 'vicinity': 'G/F, Centrum II Building, 150 Valero, Makati'}]\u001b[0m\u001b[32;1m\u001b[1;3mHere are some of the best burger joints around Makati, Philippines:\n",
      "\n",
      "1. Brgr: The Burger Project - Located at 38 Jupiter, Makati. (Rating: 0)\n",
      "\n",
      "2. Moss Burger - Located at H22G+J5C, Glorietta Pedestrian Walkway, Makati. (Rating: 4.3)\n",
      "\n",
      "3. Fuel Burgers - Located at SM Makati, Palm Dr, Makati. (Rating: 3.1)\n",
      "\n",
      "4. 8 Cuts Burger Blends - Located at H.V. dela Costa St. cor L.P. Leviste St., Salcedo village, Makati. (Rating: 4.5)\n",
      "\n",
      "5. MOS Burger - Located at H22G+74Q, Palm Dr, Makati. (Rating: 4.1)\n",
      "\n",
      "6. Mr Beast Burger - Located at H23F+RQ2, Makati. (Rating: 5)\n",
      "\n",
      "7. Burger Machine - Located at H237+W6X, V.A. Rufino St, Makati. (Rating: 3.3)\n",
      "\n",
      "8. Shake Shack - Located at Level 1, Greenbelt Dr, Makati. (Rating: 4.3)\n",
      "\n",
      "9. Buns & Burgers - Located at 2nd floor, 8445 Kalayaan Ave, Manila. (Rating: 5)\n",
      "\n",
      "10. ArmyNavy Burger + Burrito - Located at 2nd Floor, New Glorietta, Ayala Center San Lorenzo Village, Makati. (Rating: 3.2)\n",
      "\n",
      "Please note that the ratings are based on user reviews and may vary. Enjoy your burger hunt!\u001b[0m\n",
      "\n",
      "\u001b[1m> Finished chain.\u001b[0m\n"
     ]
    }
   ],
   "source": [
    "final_output = agent_for_function.run(query)"
   ]
  },
  {
   "cell_type": "code",
   "execution_count": 147,
   "metadata": {},
   "outputs": [
    {
     "name": "stdout",
     "output_type": "stream",
     "text": [
      "Here are some of the best burger joints around Makati, Philippines:\n",
      "\n",
      "1. Brgr: The Burger Project - Located at 38 Jupiter, Makati. (Rating: 0)\n",
      "\n",
      "2. Moss Burger - Located at H22G+J5C, Glorietta Pedestrian Walkway, Makati. (Rating: 4.3)\n",
      "\n",
      "3. Fuel Burgers - Located at SM Makati, Palm Dr, Makati. (Rating: 3.1)\n",
      "\n",
      "4. 8 Cuts Burger Blends - Located at H.V. dela Costa St. cor L.P. Leviste St., Salcedo village, Makati. (Rating: 4.5)\n",
      "\n",
      "5. MOS Burger - Located at H22G+74Q, Palm Dr, Makati. (Rating: 4.1)\n",
      "\n",
      "6. Mr Beast Burger - Located at H23F+RQ2, Makati. (Rating: 5)\n",
      "\n",
      "7. Burger Machine - Located at H237+W6X, V.A. Rufino St, Makati. (Rating: 3.3)\n",
      "\n",
      "8. Shake Shack - Located at Level 1, Greenbelt Dr, Makati. (Rating: 4.3)\n",
      "\n",
      "9. Buns & Burgers - Located at 2nd floor, 8445 Kalayaan Ave, Manila. (Rating: 5)\n",
      "\n",
      "10. ArmyNavy Burger + Burrito - Located at 2nd Floor, New Glorietta, Ayala Center San Lorenzo Village, Makati. (Rating: 3.2)\n",
      "\n",
      "Please note that the ratings are based on user reviews and may vary. Enjoy your burger hunt!\n"
     ]
    }
   ],
   "source": [
    "print(final_output)"
   ]
  }
 ],
 "metadata": {
  "kernelspec": {
   "display_name": "Python 3",
   "language": "python",
   "name": "python3"
  },
  "language_info": {
   "codemirror_mode": {
    "name": "ipython",
    "version": 3
   },
   "file_extension": ".py",
   "mimetype": "text/x-python",
   "name": "python",
   "nbconvert_exporter": "python",
   "pygments_lexer": "ipython3",
   "version": "3.11.4"
  },
  "orig_nbformat": 4
 },
 "nbformat": 4,
 "nbformat_minor": 2
}
